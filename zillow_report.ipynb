{
 "cells": [
  {
   "cell_type": "markdown",
   "metadata": {},
   "source": [
    "# Zillow:\n",
    "<hr style=\"border:2px solid black\">\n",
    "\n",
    "## Goal/Ask:\n",
    "We want to be able to predict the property tax assessed values ('taxvaluedollarcnt') of **Single Family Properties** that had a transaction during 2017.\n",
    "\n",
    "We have a model already, but we are hoping your insights can help us improve it. **I need recommendations on a way to make a better model. Maybe you will create a new feature out of existing ones that works better, try a non-linear regression algorithm, or try to create a different model for each county. Whatever you find that works (or doesn't work) will be useful.** Given you have just joined our team, we are excited to see your outside perspective.\n",
    "\n",
    "One last thing, Maggie lost the email that told us where these properties were located. Ugh, Maggie :-/. Because property taxes are assessed at the county level, we would like to know what states and counties these are located in.\n",
    "<hr style=\"border:2px solid black\">\n"
   ]
  },
  {
   "cell_type": "markdown",
   "metadata": {},
   "source": [
    "# Imports\n"
   ]
  },
  {
   "cell_type": "code",
   "execution_count": 449,
   "metadata": {},
   "outputs": [],
   "source": [
    "# Standard ds imports:\n",
    "import pandas as pd\n",
    "import numpy as np\n",
    "\n",
    "# Viz\n",
    "import matplotlib.pyplot as plt\n",
    "import seaborn as sns\n",
    "\n",
    "# Data Prep\n",
    "from sklearn.model_selection import train_test_split\n",
    "import sklearn.preprocessing\n",
    "\n",
    "# Statistics\n",
    "from scipy import stats\n",
    "\n",
    "# Modeling\n",
    "\n",
    "# Model evaluation\n",
    "\n",
    "# Custom Moduls\n",
    "import os\n",
    "import env\n",
    "import acquire as a"
   ]
  },
  {
   "cell_type": "markdown",
   "metadata": {},
   "source": [
    "<hr style=\"border:2px solid black\">\n",
    "\n",
    "# **Acquire**\n",
    "Plan --> **Acquire** --> Prepare --> Explore --> Model --> Deliver\n",
    "\n",
    "- Single Family Properties 2017\n",
    "- look at data\n",
    "\t- describe, info, head, shape\n",
    "- understand what your data means\n",
    "\t- know what each column is\n",
    "\t- know what your target variable is\n",
    "- [ ] Add to data dictionary\n",
    "- [ ] acquire.py modularization\n"
   ]
  },
  {
   "cell_type": "code",
   "execution_count": 450,
   "metadata": {},
   "outputs": [],
   "source": [
    "# Acquire\n",
    "zillow = a.get_zillow_data()"
   ]
  },
  {
   "cell_type": "code",
   "execution_count": 451,
   "metadata": {},
   "outputs": [],
   "source": [
    "# Make copy of df for manipulation\n",
    "z = zillow.copy()"
   ]
  },
  {
   "cell_type": "code",
   "execution_count": 452,
   "metadata": {},
   "outputs": [],
   "source": [
    "# drop duplicate rows\n",
    "z = z.drop_duplicates()\n",
    "# drop duplicate columns\n",
    "z = z.T.drop_duplicates().T"
   ]
  },
  {
   "cell_type": "code",
   "execution_count": 453,
   "metadata": {},
   "outputs": [],
   "source": [
    "# make var to save dropped column list\n",
    "columns_to_drop = ['id',\n",
    " 'parcelid',\n",
    " 'airconditioningtypeid',\n",
    " 'architecturalstyletypeid',\n",
    " 'buildingclasstypeid',\n",
    " 'buildingqualitytypeid',\n",
    "  'decktypeid',\n",
    "  'heatingorsystemtypeid',\n",
    " 'propertylandusetypeid',\n",
    "  'storytypeid',\n",
    "  'typeconstructiontypeid',\n",
    "  'structuretaxvaluedollarcnt',\n",
    "  'taxamount',\n",
    "  'calculatedbathnbr',\n",
    "  'finishedfloor1squarefeet',\n",
    "   'finishedsquarefeet12',\n",
    " 'finishedsquarefeet50',\n",
    " 'finishedsquarefeet6',\n",
    " 'fullbathcnt',\n",
    "  'pooltypeid10',\n",
    " 'pooltypeid2',\n",
    " 'pooltypeid7',\n",
    "  'pooltypeid10',\n",
    " 'pooltypeid2',\n",
    " 'pooltypeid7',\n",
    "  'propertycountylandusecode',\n",
    "  'rawcensustractandblock',\n",
    "  'propertyzoningdesc',\n",
    "  'roomcnt',\n",
    "  'threequarterbathnbr',\n",
    "  'fireplaceflag',\n",
    "  'taxdelinquencyyear',\n",
    "   'censustractandblock',\n",
    "   'parcelid.1',\n",
    "  'landtaxvaluedollarcnt',\n",
    "  'storydesc',\n",
    "  'propertylandusedesc',\n",
    "  'typeconstructiondesc',\n",
    "  'basementsqft',\n",
    "  'fireplacecnt',\n",
    "  'garagecarcnt',\n",
    "  'hashottuborspa',\n",
    "  'poolsizesum',\n",
    "  'regionidneighborhood',\n",
    "  'regionidcity',\n",
    "  'unitcnt',\n",
    "  'yardbuildingsqft17',\n",
    "  'yardbuildingsqft26',\n",
    "  'architecturalstyledesc',\n",
    "  'transactiondate',\n",
    "  'garagetotalsqft',\n",
    "  'airconditioningdesc',\n",
    "  'heatingorsystemdesc'\n",
    "  ]"
   ]
  },
  {
   "cell_type": "code",
   "execution_count": 454,
   "metadata": {},
   "outputs": [
    {
     "data": {
      "text/plain": [
       "['id',\n",
       " 'parcelid',\n",
       " 'airconditioningtypeid',\n",
       " 'architecturalstyletypeid',\n",
       " 'basementsqft',\n",
       " 'bathroomcnt',\n",
       " 'bedroomcnt',\n",
       " 'buildingclasstypeid',\n",
       " 'buildingqualitytypeid',\n",
       " 'calculatedbathnbr',\n",
       " 'decktypeid',\n",
       " 'finishedfloor1squarefeet',\n",
       " 'calculatedfinishedsquarefeet',\n",
       " 'finishedsquarefeet12',\n",
       " 'finishedsquarefeet50',\n",
       " 'finishedsquarefeet6',\n",
       " 'fips',\n",
       " 'fireplacecnt',\n",
       " 'fullbathcnt',\n",
       " 'garagecarcnt',\n",
       " 'garagetotalsqft',\n",
       " 'hashottuborspa',\n",
       " 'heatingorsystemtypeid',\n",
       " 'latitude',\n",
       " 'longitude',\n",
       " 'lotsizesquarefeet',\n",
       " 'poolcnt',\n",
       " 'poolsizesum',\n",
       " 'pooltypeid10',\n",
       " 'pooltypeid2',\n",
       " 'pooltypeid7',\n",
       " 'propertycountylandusecode',\n",
       " 'propertylandusetypeid',\n",
       " 'propertyzoningdesc',\n",
       " 'rawcensustractandblock',\n",
       " 'regionidcity',\n",
       " 'regionidcounty',\n",
       " 'regionidneighborhood',\n",
       " 'regionidzip',\n",
       " 'roomcnt',\n",
       " 'storytypeid',\n",
       " 'threequarterbathnbr',\n",
       " 'typeconstructiontypeid',\n",
       " 'unitcnt',\n",
       " 'yardbuildingsqft17',\n",
       " 'yardbuildingsqft26',\n",
       " 'yearbuilt',\n",
       " 'numberofstories',\n",
       " 'fireplaceflag',\n",
       " 'structuretaxvaluedollarcnt',\n",
       " 'taxvaluedollarcnt',\n",
       " 'assessmentyear',\n",
       " 'landtaxvaluedollarcnt',\n",
       " 'taxamount',\n",
       " 'taxdelinquencyflag',\n",
       " 'taxdelinquencyyear',\n",
       " 'censustractandblock',\n",
       " 'parcelid.1',\n",
       " 'logerror',\n",
       " 'transactiondate',\n",
       " 'architecturalstyledesc',\n",
       " 'heatingorsystemdesc',\n",
       " 'storydesc',\n",
       " 'propertylandusedesc',\n",
       " 'typeconstructiondesc',\n",
       " 'airconditioningdesc']"
      ]
     },
     "execution_count": 454,
     "metadata": {},
     "output_type": "execute_result"
    }
   ],
   "source": [
    "z.columns.to_list()"
   ]
  },
  {
   "cell_type": "code",
   "execution_count": 455,
   "metadata": {},
   "outputs": [],
   "source": [
    "z = z.drop(columns=columns_to_drop)"
   ]
  },
  {
   "cell_type": "code",
   "execution_count": 456,
   "metadata": {},
   "outputs": [],
   "source": [
    "rename_columns ={\n",
    "'bathroomcnt':'baths',\n",
    "'bedroomcnt':'beds',\n",
    "'calculatedfinishedsquarefeet':'sqft',\n",
    "'fips':'county',\n",
    "'hashottuborspa':'spatub',\n",
    "'lotsizesquarefeet':'lotsqft',\n",
    "'numberofstories':'stories',\n",
    "'taxvaluedollarcnt':'tax_value',\n",
    "'taxdelinquencyflag':'tax_delinquency',\n",
    "'airconditioningdesc':'ac_type',\n",
    "'heatingorsystemdesc':'heat_type'}\n",
    "\n",
    "z = z.rename(columns=rename_columns)"
   ]
  },
  {
   "cell_type": "code",
   "execution_count": 457,
   "metadata": {},
   "outputs": [],
   "source": [
    "# save column names to list variable\n",
    "z_columns = z.columns.to_list()\n"
   ]
  },
  {
   "cell_type": "code",
   "execution_count": 458,
   "metadata": {},
   "outputs": [
    {
     "name": "stdout",
     "output_type": "stream",
     "text": [
      "<class 'pandas.core.frame.DataFrame'>\n",
      "Index: 56079 entries, 0 to 56078\n",
      "Data columns (total 16 columns):\n",
      " #   Column           Non-Null Count  Dtype \n",
      "---  ------           --------------  ----- \n",
      " 0   baths            56079 non-null  object\n",
      " 1   beds             56079 non-null  object\n",
      " 2   sqft             55848 non-null  object\n",
      " 3   county           56079 non-null  object\n",
      " 4   latitude         56079 non-null  object\n",
      " 5   longitude        56079 non-null  object\n",
      " 6   lotsqft          55729 non-null  object\n",
      " 7   poolcnt          10951 non-null  object\n",
      " 8   regionidcounty   56079 non-null  object\n",
      " 9   regionidzip      55979 non-null  object\n",
      " 10  yearbuilt        55830 non-null  object\n",
      " 11  stories          15493 non-null  object\n",
      " 12  tax_value        56071 non-null  object\n",
      " 13  assessmentyear   56079 non-null  object\n",
      " 14  tax_delinquency  1129 non-null   object\n",
      " 15  logerror         56079 non-null  object\n",
      "dtypes: object(16)\n",
      "memory usage: 9.3+ MB\n"
     ]
    }
   ],
   "source": [
    "z.info()"
   ]
  },
  {
   "cell_type": "code",
   "execution_count": 459,
   "metadata": {},
   "outputs": [
    {
     "data": {
      "text/html": [
       "<div>\n",
       "<style scoped>\n",
       "    .dataframe tbody tr th:only-of-type {\n",
       "        vertical-align: middle;\n",
       "    }\n",
       "\n",
       "    .dataframe tbody tr th {\n",
       "        vertical-align: top;\n",
       "    }\n",
       "\n",
       "    .dataframe thead th {\n",
       "        text-align: right;\n",
       "    }\n",
       "</style>\n",
       "<table border=\"1\" class=\"dataframe\">\n",
       "  <thead>\n",
       "    <tr style=\"text-align: right;\">\n",
       "      <th></th>\n",
       "      <th>count</th>\n",
       "      <th>unique</th>\n",
       "      <th>top</th>\n",
       "      <th>freq</th>\n",
       "    </tr>\n",
       "  </thead>\n",
       "  <tbody>\n",
       "    <tr>\n",
       "      <th>baths</th>\n",
       "      <td>56079.0</td>\n",
       "      <td>24.0</td>\n",
       "      <td>2.0</td>\n",
       "      <td>24535.0</td>\n",
       "    </tr>\n",
       "    <tr>\n",
       "      <th>beds</th>\n",
       "      <td>56079.0</td>\n",
       "      <td>13.0</td>\n",
       "      <td>3.0</td>\n",
       "      <td>25018.0</td>\n",
       "    </tr>\n",
       "    <tr>\n",
       "      <th>sqft</th>\n",
       "      <td>55848.0</td>\n",
       "      <td>4684.0</td>\n",
       "      <td>1200.0</td>\n",
       "      <td>136.0</td>\n",
       "    </tr>\n",
       "    <tr>\n",
       "      <th>county</th>\n",
       "      <td>56079.0</td>\n",
       "      <td>3.0</td>\n",
       "      <td>6037.0</td>\n",
       "      <td>37287.0</td>\n",
       "    </tr>\n",
       "    <tr>\n",
       "      <th>latitude</th>\n",
       "      <td>56079.0</td>\n",
       "      <td>53910.0</td>\n",
       "      <td>33708500.0</td>\n",
       "      <td>12.0</td>\n",
       "    </tr>\n",
       "    <tr>\n",
       "      <th>longitude</th>\n",
       "      <td>56079.0</td>\n",
       "      <td>54384.0</td>\n",
       "      <td>-117756000.0</td>\n",
       "      <td>12.0</td>\n",
       "    </tr>\n",
       "    <tr>\n",
       "      <th>lotsqft</th>\n",
       "      <td>55729.0</td>\n",
       "      <td>14365.0</td>\n",
       "      <td>6000.0</td>\n",
       "      <td>1132.0</td>\n",
       "    </tr>\n",
       "    <tr>\n",
       "      <th>poolcnt</th>\n",
       "      <td>10951.0</td>\n",
       "      <td>1.0</td>\n",
       "      <td>1.0</td>\n",
       "      <td>10951.0</td>\n",
       "    </tr>\n",
       "    <tr>\n",
       "      <th>regionidcounty</th>\n",
       "      <td>56079.0</td>\n",
       "      <td>3.0</td>\n",
       "      <td>3101.0</td>\n",
       "      <td>37287.0</td>\n",
       "    </tr>\n",
       "    <tr>\n",
       "      <th>regionidzip</th>\n",
       "      <td>55979.0</td>\n",
       "      <td>382.0</td>\n",
       "      <td>97118.0</td>\n",
       "      <td>509.0</td>\n",
       "    </tr>\n",
       "    <tr>\n",
       "      <th>yearbuilt</th>\n",
       "      <td>55830.0</td>\n",
       "      <td>133.0</td>\n",
       "      <td>1955.0</td>\n",
       "      <td>2167.0</td>\n",
       "    </tr>\n",
       "    <tr>\n",
       "      <th>stories</th>\n",
       "      <td>15493.0</td>\n",
       "      <td>3.0</td>\n",
       "      <td>1.0</td>\n",
       "      <td>9897.0</td>\n",
       "    </tr>\n",
       "    <tr>\n",
       "      <th>tax_value</th>\n",
       "      <td>56071.0</td>\n",
       "      <td>43893.0</td>\n",
       "      <td>460000.0</td>\n",
       "      <td>24.0</td>\n",
       "    </tr>\n",
       "    <tr>\n",
       "      <th>assessmentyear</th>\n",
       "      <td>56079.0</td>\n",
       "      <td>3.0</td>\n",
       "      <td>2016.0</td>\n",
       "      <td>56024.0</td>\n",
       "    </tr>\n",
       "    <tr>\n",
       "      <th>tax_delinquency</th>\n",
       "      <td>1129</td>\n",
       "      <td>1</td>\n",
       "      <td>Y</td>\n",
       "      <td>1129</td>\n",
       "    </tr>\n",
       "    <tr>\n",
       "      <th>logerror</th>\n",
       "      <td>56079.0</td>\n",
       "      <td>55770.0</td>\n",
       "      <td>0.002652</td>\n",
       "      <td>7.0</td>\n",
       "    </tr>\n",
       "  </tbody>\n",
       "</table>\n",
       "</div>"
      ],
      "text/plain": [
       "                   count   unique          top     freq\n",
       "baths            56079.0     24.0          2.0  24535.0\n",
       "beds             56079.0     13.0          3.0  25018.0\n",
       "sqft             55848.0   4684.0       1200.0    136.0\n",
       "county           56079.0      3.0       6037.0  37287.0\n",
       "latitude         56079.0  53910.0   33708500.0     12.0\n",
       "longitude        56079.0  54384.0 -117756000.0     12.0\n",
       "lotsqft          55729.0  14365.0       6000.0   1132.0\n",
       "poolcnt          10951.0      1.0          1.0  10951.0\n",
       "regionidcounty   56079.0      3.0       3101.0  37287.0\n",
       "regionidzip      55979.0    382.0      97118.0    509.0\n",
       "yearbuilt        55830.0    133.0       1955.0   2167.0\n",
       "stories          15493.0      3.0          1.0   9897.0\n",
       "tax_value        56071.0  43893.0     460000.0     24.0\n",
       "assessmentyear   56079.0      3.0       2016.0  56024.0\n",
       "tax_delinquency     1129        1            Y     1129\n",
       "logerror         56079.0  55770.0     0.002652      7.0"
      ]
     },
     "execution_count": 459,
     "metadata": {},
     "output_type": "execute_result"
    }
   ],
   "source": [
    "z.describe().T"
   ]
  },
  {
   "cell_type": "code",
   "execution_count": 460,
   "metadata": {},
   "outputs": [
    {
     "data": {
      "text/html": [
       "<div>\n",
       "<style scoped>\n",
       "    .dataframe tbody tr th:only-of-type {\n",
       "        vertical-align: middle;\n",
       "    }\n",
       "\n",
       "    .dataframe tbody tr th {\n",
       "        vertical-align: top;\n",
       "    }\n",
       "\n",
       "    .dataframe thead th {\n",
       "        text-align: right;\n",
       "    }\n",
       "</style>\n",
       "<table border=\"1\" class=\"dataframe\">\n",
       "  <thead>\n",
       "    <tr style=\"text-align: right;\">\n",
       "      <th></th>\n",
       "      <th>baths</th>\n",
       "      <th>beds</th>\n",
       "      <th>sqft</th>\n",
       "      <th>county</th>\n",
       "      <th>latitude</th>\n",
       "      <th>longitude</th>\n",
       "      <th>lotsqft</th>\n",
       "      <th>poolcnt</th>\n",
       "      <th>regionidcounty</th>\n",
       "      <th>regionidzip</th>\n",
       "      <th>yearbuilt</th>\n",
       "      <th>stories</th>\n",
       "      <th>tax_value</th>\n",
       "      <th>assessmentyear</th>\n",
       "      <th>tax_delinquency</th>\n",
       "      <th>logerror</th>\n",
       "    </tr>\n",
       "  </thead>\n",
       "  <tbody>\n",
       "    <tr>\n",
       "      <th>0</th>\n",
       "      <td>0.0</td>\n",
       "      <td>0.0</td>\n",
       "      <td>NaN</td>\n",
       "      <td>6037.0</td>\n",
       "      <td>34140430.0</td>\n",
       "      <td>-118625364.0</td>\n",
       "      <td>4083.0</td>\n",
       "      <td>NaN</td>\n",
       "      <td>3101.0</td>\n",
       "      <td>96337.0</td>\n",
       "      <td>NaN</td>\n",
       "      <td>NaN</td>\n",
       "      <td>27516.0</td>\n",
       "      <td>2015.0</td>\n",
       "      <td>NaN</td>\n",
       "      <td>0.055619</td>\n",
       "    </tr>\n",
       "    <tr>\n",
       "      <th>1</th>\n",
       "      <td>0.0</td>\n",
       "      <td>0.0</td>\n",
       "      <td>NaN</td>\n",
       "      <td>6037.0</td>\n",
       "      <td>34585014.0</td>\n",
       "      <td>-118162010.0</td>\n",
       "      <td>11975.0</td>\n",
       "      <td>NaN</td>\n",
       "      <td>3101.0</td>\n",
       "      <td>97329.0</td>\n",
       "      <td>NaN</td>\n",
       "      <td>NaN</td>\n",
       "      <td>10.0</td>\n",
       "      <td>2016.0</td>\n",
       "      <td>NaN</td>\n",
       "      <td>0.008669</td>\n",
       "    </tr>\n",
       "    <tr>\n",
       "      <th>2</th>\n",
       "      <td>0.0</td>\n",
       "      <td>0.0</td>\n",
       "      <td>NaN</td>\n",
       "      <td>6037.0</td>\n",
       "      <td>34563376.0</td>\n",
       "      <td>-118019104.0</td>\n",
       "      <td>9403.0</td>\n",
       "      <td>NaN</td>\n",
       "      <td>3101.0</td>\n",
       "      <td>97330.0</td>\n",
       "      <td>NaN</td>\n",
       "      <td>NaN</td>\n",
       "      <td>10.0</td>\n",
       "      <td>2016.0</td>\n",
       "      <td>NaN</td>\n",
       "      <td>-0.021896</td>\n",
       "    </tr>\n",
       "    <tr>\n",
       "      <th>3</th>\n",
       "      <td>0.0</td>\n",
       "      <td>0.0</td>\n",
       "      <td>NaN</td>\n",
       "      <td>6037.0</td>\n",
       "      <td>34526913.0</td>\n",
       "      <td>-118050581.0</td>\n",
       "      <td>3817.0</td>\n",
       "      <td>NaN</td>\n",
       "      <td>3101.0</td>\n",
       "      <td>97330.0</td>\n",
       "      <td>NaN</td>\n",
       "      <td>NaN</td>\n",
       "      <td>2108.0</td>\n",
       "      <td>2016.0</td>\n",
       "      <td>NaN</td>\n",
       "      <td>-0.017167</td>\n",
       "    </tr>\n",
       "    <tr>\n",
       "      <th>4</th>\n",
       "      <td>2.0</td>\n",
       "      <td>4.0</td>\n",
       "      <td>3633.0</td>\n",
       "      <td>6037.0</td>\n",
       "      <td>34560018.0</td>\n",
       "      <td>-118169806.0</td>\n",
       "      <td>9826.0</td>\n",
       "      <td>NaN</td>\n",
       "      <td>3101.0</td>\n",
       "      <td>97329.0</td>\n",
       "      <td>2005.0</td>\n",
       "      <td>NaN</td>\n",
       "      <td>296425.0</td>\n",
       "      <td>2016.0</td>\n",
       "      <td>NaN</td>\n",
       "      <td>0.042463</td>\n",
       "    </tr>\n",
       "  </tbody>\n",
       "</table>\n",
       "</div>"
      ],
      "text/plain": [
       "  baths beds    sqft  county    latitude    longitude  lotsqft poolcnt  \\\n",
       "0   0.0  0.0     NaN  6037.0  34140430.0 -118625364.0   4083.0     NaN   \n",
       "1   0.0  0.0     NaN  6037.0  34585014.0 -118162010.0  11975.0     NaN   \n",
       "2   0.0  0.0     NaN  6037.0  34563376.0 -118019104.0   9403.0     NaN   \n",
       "3   0.0  0.0     NaN  6037.0  34526913.0 -118050581.0   3817.0     NaN   \n",
       "4   2.0  4.0  3633.0  6037.0  34560018.0 -118169806.0   9826.0     NaN   \n",
       "\n",
       "  regionidcounty regionidzip yearbuilt stories tax_value assessmentyear  \\\n",
       "0         3101.0     96337.0       NaN     NaN   27516.0         2015.0   \n",
       "1         3101.0     97329.0       NaN     NaN      10.0         2016.0   \n",
       "2         3101.0     97330.0       NaN     NaN      10.0         2016.0   \n",
       "3         3101.0     97330.0       NaN     NaN    2108.0         2016.0   \n",
       "4         3101.0     97329.0    2005.0     NaN  296425.0         2016.0   \n",
       "\n",
       "  tax_delinquency  logerror  \n",
       "0             NaN  0.055619  \n",
       "1             NaN  0.008669  \n",
       "2             NaN -0.021896  \n",
       "3             NaN -0.017167  \n",
       "4             NaN  0.042463  "
      ]
     },
     "execution_count": 460,
     "metadata": {},
     "output_type": "execute_result"
    }
   ],
   "source": [
    "z.head()"
   ]
  },
  {
   "cell_type": "markdown",
   "metadata": {},
   "source": [
    "<hr style=\"border:2px solid black\">\n",
    "\n",
    "# **Prepare**\n",
    "Plan --> Acquire --> **Prepare** --> Explore --> Model --> Deliver\n",
    "\n",
    "**Prepare Actions:**\n",
    "- clean the data\n",
    "\t- handle nulls\n",
    "\t- handle outliers\n",
    "\t- correct datatypes\n",
    "\n",
    "- Preprocessing:\n",
    "\t- encode variables\n",
    "\t- split into train, validate/, test\n",
    "\t- scale data (after train/validate/test split) -- Preprocessing\n",
    "- document how your changing the data\n",
    "#### wrangle_exercises\n",
    "- prepare.py\n"
   ]
  },
  {
   "cell_type": "code",
   "execution_count": 461,
   "metadata": {},
   "outputs": [],
   "source": [
    "#confirm whole numbers\n",
    "#for col in z.columns:\n",
    "#    print(col)\n",
    "#    print(z[col].value_counts().sort_index())\n",
    "#    print()"
   ]
  },
  {
   "cell_type": "code",
   "execution_count": 462,
   "metadata": {},
   "outputs": [
    {
     "data": {
      "text/plain": [
       "baths                  0\n",
       "beds                   0\n",
       "sqft                 231\n",
       "county                 0\n",
       "latitude               0\n",
       "longitude              0\n",
       "lotsqft              350\n",
       "poolcnt            45128\n",
       "regionidcounty         0\n",
       "regionidzip          100\n",
       "yearbuilt            249\n",
       "stories            40586\n",
       "tax_value              8\n",
       "assessmentyear         0\n",
       "tax_delinquency    54950\n",
       "logerror               0\n",
       "dtype: int64"
      ]
     },
     "execution_count": 462,
     "metadata": {},
     "output_type": "execute_result"
    }
   ],
   "source": [
    "col = z.columns.to_list()\n",
    "\n",
    "#are we dealing with any nulls?\n",
    "num_missing = z[col].isna().sum()\n",
    "num_missing"
   ]
  },
  {
   "cell_type": "markdown",
   "metadata": {},
   "source": [
    "# ** Finish handling nulls. Impute the values you actually want for for poolcnt **"
   ]
  },
  {
   "cell_type": "code",
   "execution_count": 463,
   "metadata": {},
   "outputs": [],
   "source": [
    "##### handle nulls #####\n",
    "\n",
    "z = z.fillna(0)\n",
    "\n",
    "# impute for poolcnt, stories, tax_delinquency\n",
    "\n",
    "# Specify columns where you want to replace 0 with \"no\"\n",
    "columns_to_replace = ['poolcnt', 'stories', 'tax_delinquency']\n",
    "# Replace 0 with \"no\" in the specified columns\n",
    "z[columns_to_replace] = z[columns_to_replace].applymap(lambda x: 'None' if x == 0 else x)\n",
    "\n",
    "# drop the rest of the nulls\n",
    "z = z[~(z == 0).any(axis=1)]"
   ]
  },
  {
   "cell_type": "code",
   "execution_count": 464,
   "metadata": {},
   "outputs": [
    {
     "data": {
      "text/plain": [
       "baths              0\n",
       "beds               0\n",
       "sqft               0\n",
       "county             0\n",
       "latitude           0\n",
       "longitude          0\n",
       "lotsqft            0\n",
       "poolcnt            0\n",
       "regionidcounty     0\n",
       "regionidzip        0\n",
       "yearbuilt          0\n",
       "stories            0\n",
       "tax_value          0\n",
       "assessmentyear     0\n",
       "tax_delinquency    0\n",
       "logerror           0\n",
       "dtype: int64"
      ]
     },
     "execution_count": 464,
     "metadata": {},
     "output_type": "execute_result"
    }
   ],
   "source": [
    "col = z.columns.to_list()\n",
    "\n",
    "#are we dealing with any nulls?\n",
    "num_missing = z[col].isna().sum()\n",
    "num_missing"
   ]
  },
  {
   "cell_type": "code",
   "execution_count": 465,
   "metadata": {},
   "outputs": [
    {
     "data": {
      "text/plain": [
       "(55318, 16)"
      ]
     },
     "execution_count": 465,
     "metadata": {},
     "output_type": "execute_result"
    }
   ],
   "source": [
    "z.shape"
   ]
  },
  {
   "cell_type": "code",
   "execution_count": 419,
   "metadata": {},
   "outputs": [
    {
     "data": {
      "text/plain": [
       "poolcnt\n",
       "0.0    45128\n",
       "1.0    10951\n",
       "Name: count, dtype: int64"
      ]
     },
     "execution_count": 419,
     "metadata": {},
     "output_type": "execute_result"
    }
   ],
   "source": [
    "df_replaced.poolcnt.value_counts()"
   ]
  },
  {
   "cell_type": "code",
   "execution_count": 467,
   "metadata": {},
   "outputs": [
    {
     "ename": "ValueError",
     "evalue": "invalid literal for int() with base 10: 'None'",
     "output_type": "error",
     "traceback": [
      "\u001b[0;31m---------------------------------------------------------------------------\u001b[0m",
      "\u001b[0;31mValueError\u001b[0m                                Traceback (most recent call last)",
      "Cell \u001b[0;32mIn[467], line 6\u001b[0m\n\u001b[1;32m      3\u001b[0m make_float \u001b[39m=\u001b[39m [\u001b[39m'\u001b[39m\u001b[39mbaths\u001b[39m\u001b[39m'\u001b[39m,\u001b[39m'\u001b[39m\u001b[39mlogerror\u001b[39m\u001b[39m'\u001b[39m]\n\u001b[1;32m      5\u001b[0m \u001b[39mfor\u001b[39;00m col \u001b[39min\u001b[39;00m make_ints:\n\u001b[0;32m----> 6\u001b[0m     z[col] \u001b[39m=\u001b[39m z[col]\u001b[39m.\u001b[39mastype(\u001b[39mint\u001b[39m)\n\u001b[1;32m      7\u001b[0m \u001b[39mfor\u001b[39;00m col \u001b[39min\u001b[39;00m make_float:\n\u001b[1;32m      8\u001b[0m     z[col] \u001b[39m=\u001b[39m z[col]\u001b[39m.\u001b[39mastype(\u001b[39mfloat\u001b[39m)\n",
      "File \u001b[0;32m/opt/homebrew/anaconda3/lib/python3.11/site-packages/pandas/core/generic.py:6324\u001b[0m, in \u001b[0;36mNDFrame.astype\u001b[0;34m(self, dtype, copy, errors)\u001b[0m\n\u001b[1;32m   6317\u001b[0m     results \u001b[39m=\u001b[39m [\n\u001b[1;32m   6318\u001b[0m         \u001b[39mself\u001b[39m\u001b[39m.\u001b[39miloc[:, i]\u001b[39m.\u001b[39mastype(dtype, copy\u001b[39m=\u001b[39mcopy)\n\u001b[1;32m   6319\u001b[0m         \u001b[39mfor\u001b[39;00m i \u001b[39min\u001b[39;00m \u001b[39mrange\u001b[39m(\u001b[39mlen\u001b[39m(\u001b[39mself\u001b[39m\u001b[39m.\u001b[39mcolumns))\n\u001b[1;32m   6320\u001b[0m     ]\n\u001b[1;32m   6322\u001b[0m \u001b[39melse\u001b[39;00m:\n\u001b[1;32m   6323\u001b[0m     \u001b[39m# else, only a single dtype is given\u001b[39;00m\n\u001b[0;32m-> 6324\u001b[0m     new_data \u001b[39m=\u001b[39m \u001b[39mself\u001b[39m\u001b[39m.\u001b[39m_mgr\u001b[39m.\u001b[39mastype(dtype\u001b[39m=\u001b[39mdtype, copy\u001b[39m=\u001b[39mcopy, errors\u001b[39m=\u001b[39merrors)\n\u001b[1;32m   6325\u001b[0m     \u001b[39mreturn\u001b[39;00m \u001b[39mself\u001b[39m\u001b[39m.\u001b[39m_constructor(new_data)\u001b[39m.\u001b[39m__finalize__(\u001b[39mself\u001b[39m, method\u001b[39m=\u001b[39m\u001b[39m\"\u001b[39m\u001b[39mastype\u001b[39m\u001b[39m\"\u001b[39m)\n\u001b[1;32m   6327\u001b[0m \u001b[39m# GH 33113: handle empty frame or series\u001b[39;00m\n",
      "File \u001b[0;32m/opt/homebrew/anaconda3/lib/python3.11/site-packages/pandas/core/internals/managers.py:451\u001b[0m, in \u001b[0;36mBaseBlockManager.astype\u001b[0;34m(self, dtype, copy, errors)\u001b[0m\n\u001b[1;32m    448\u001b[0m \u001b[39melif\u001b[39;00m using_copy_on_write():\n\u001b[1;32m    449\u001b[0m     copy \u001b[39m=\u001b[39m \u001b[39mFalse\u001b[39;00m\n\u001b[0;32m--> 451\u001b[0m \u001b[39mreturn\u001b[39;00m \u001b[39mself\u001b[39m\u001b[39m.\u001b[39mapply(\n\u001b[1;32m    452\u001b[0m     \u001b[39m\"\u001b[39m\u001b[39mastype\u001b[39m\u001b[39m\"\u001b[39m,\n\u001b[1;32m    453\u001b[0m     dtype\u001b[39m=\u001b[39mdtype,\n\u001b[1;32m    454\u001b[0m     copy\u001b[39m=\u001b[39mcopy,\n\u001b[1;32m    455\u001b[0m     errors\u001b[39m=\u001b[39merrors,\n\u001b[1;32m    456\u001b[0m     using_cow\u001b[39m=\u001b[39musing_copy_on_write(),\n\u001b[1;32m    457\u001b[0m )\n",
      "File \u001b[0;32m/opt/homebrew/anaconda3/lib/python3.11/site-packages/pandas/core/internals/managers.py:352\u001b[0m, in \u001b[0;36mBaseBlockManager.apply\u001b[0;34m(self, f, align_keys, **kwargs)\u001b[0m\n\u001b[1;32m    350\u001b[0m         applied \u001b[39m=\u001b[39m b\u001b[39m.\u001b[39mapply(f, \u001b[39m*\u001b[39m\u001b[39m*\u001b[39mkwargs)\n\u001b[1;32m    351\u001b[0m     \u001b[39melse\u001b[39;00m:\n\u001b[0;32m--> 352\u001b[0m         applied \u001b[39m=\u001b[39m \u001b[39mgetattr\u001b[39m(b, f)(\u001b[39m*\u001b[39m\u001b[39m*\u001b[39mkwargs)\n\u001b[1;32m    353\u001b[0m     result_blocks \u001b[39m=\u001b[39m extend_blocks(applied, result_blocks)\n\u001b[1;32m    355\u001b[0m out \u001b[39m=\u001b[39m \u001b[39mtype\u001b[39m(\u001b[39mself\u001b[39m)\u001b[39m.\u001b[39mfrom_blocks(result_blocks, \u001b[39mself\u001b[39m\u001b[39m.\u001b[39maxes)\n",
      "File \u001b[0;32m/opt/homebrew/anaconda3/lib/python3.11/site-packages/pandas/core/internals/blocks.py:511\u001b[0m, in \u001b[0;36mBlock.astype\u001b[0;34m(self, dtype, copy, errors, using_cow)\u001b[0m\n\u001b[1;32m    491\u001b[0m \u001b[39m\u001b[39m\u001b[39m\"\"\"\u001b[39;00m\n\u001b[1;32m    492\u001b[0m \u001b[39mCoerce to the new dtype.\u001b[39;00m\n\u001b[1;32m    493\u001b[0m \n\u001b[0;32m   (...)\u001b[0m\n\u001b[1;32m    507\u001b[0m \u001b[39mBlock\u001b[39;00m\n\u001b[1;32m    508\u001b[0m \u001b[39m\"\"\"\u001b[39;00m\n\u001b[1;32m    509\u001b[0m values \u001b[39m=\u001b[39m \u001b[39mself\u001b[39m\u001b[39m.\u001b[39mvalues\n\u001b[0;32m--> 511\u001b[0m new_values \u001b[39m=\u001b[39m astype_array_safe(values, dtype, copy\u001b[39m=\u001b[39mcopy, errors\u001b[39m=\u001b[39merrors)\n\u001b[1;32m    513\u001b[0m new_values \u001b[39m=\u001b[39m maybe_coerce_values(new_values)\n\u001b[1;32m    515\u001b[0m refs \u001b[39m=\u001b[39m \u001b[39mNone\u001b[39;00m\n",
      "File \u001b[0;32m/opt/homebrew/anaconda3/lib/python3.11/site-packages/pandas/core/dtypes/astype.py:242\u001b[0m, in \u001b[0;36mastype_array_safe\u001b[0;34m(values, dtype, copy, errors)\u001b[0m\n\u001b[1;32m    239\u001b[0m     dtype \u001b[39m=\u001b[39m dtype\u001b[39m.\u001b[39mnumpy_dtype\n\u001b[1;32m    241\u001b[0m \u001b[39mtry\u001b[39;00m:\n\u001b[0;32m--> 242\u001b[0m     new_values \u001b[39m=\u001b[39m astype_array(values, dtype, copy\u001b[39m=\u001b[39mcopy)\n\u001b[1;32m    243\u001b[0m \u001b[39mexcept\u001b[39;00m (\u001b[39mValueError\u001b[39;00m, \u001b[39mTypeError\u001b[39;00m):\n\u001b[1;32m    244\u001b[0m     \u001b[39m# e.g. _astype_nansafe can fail on object-dtype of strings\u001b[39;00m\n\u001b[1;32m    245\u001b[0m     \u001b[39m#  trying to convert to float\u001b[39;00m\n\u001b[1;32m    246\u001b[0m     \u001b[39mif\u001b[39;00m errors \u001b[39m==\u001b[39m \u001b[39m\"\u001b[39m\u001b[39mignore\u001b[39m\u001b[39m\"\u001b[39m:\n",
      "File \u001b[0;32m/opt/homebrew/anaconda3/lib/python3.11/site-packages/pandas/core/dtypes/astype.py:187\u001b[0m, in \u001b[0;36mastype_array\u001b[0;34m(values, dtype, copy)\u001b[0m\n\u001b[1;32m    184\u001b[0m     values \u001b[39m=\u001b[39m values\u001b[39m.\u001b[39mastype(dtype, copy\u001b[39m=\u001b[39mcopy)\n\u001b[1;32m    186\u001b[0m \u001b[39melse\u001b[39;00m:\n\u001b[0;32m--> 187\u001b[0m     values \u001b[39m=\u001b[39m _astype_nansafe(values, dtype, copy\u001b[39m=\u001b[39mcopy)\n\u001b[1;32m    189\u001b[0m \u001b[39m# in pandas we don't store numpy str dtypes, so convert to object\u001b[39;00m\n\u001b[1;32m    190\u001b[0m \u001b[39mif\u001b[39;00m \u001b[39misinstance\u001b[39m(dtype, np\u001b[39m.\u001b[39mdtype) \u001b[39mand\u001b[39;00m \u001b[39missubclass\u001b[39m(values\u001b[39m.\u001b[39mdtype\u001b[39m.\u001b[39mtype, \u001b[39mstr\u001b[39m):\n",
      "File \u001b[0;32m/opt/homebrew/anaconda3/lib/python3.11/site-packages/pandas/core/dtypes/astype.py:138\u001b[0m, in \u001b[0;36m_astype_nansafe\u001b[0;34m(arr, dtype, copy, skipna)\u001b[0m\n\u001b[1;32m    134\u001b[0m     \u001b[39mraise\u001b[39;00m \u001b[39mValueError\u001b[39;00m(msg)\n\u001b[1;32m    136\u001b[0m \u001b[39mif\u001b[39;00m copy \u001b[39mor\u001b[39;00m is_object_dtype(arr\u001b[39m.\u001b[39mdtype) \u001b[39mor\u001b[39;00m is_object_dtype(dtype):\n\u001b[1;32m    137\u001b[0m     \u001b[39m# Explicit copy, or required since NumPy can't view from / to object.\u001b[39;00m\n\u001b[0;32m--> 138\u001b[0m     \u001b[39mreturn\u001b[39;00m arr\u001b[39m.\u001b[39mastype(dtype, copy\u001b[39m=\u001b[39m\u001b[39mTrue\u001b[39;00m)\n\u001b[1;32m    140\u001b[0m \u001b[39mreturn\u001b[39;00m arr\u001b[39m.\u001b[39mastype(dtype, copy\u001b[39m=\u001b[39mcopy)\n",
      "\u001b[0;31mValueError\u001b[0m: invalid literal for int() with base 10: 'None'"
     ]
    }
   ],
   "source": [
    "# correct dtypes\n",
    "make_ints = ['beds','tax_value', 'yearbuilt', 'sqft', 'county', 'latitude', 'longitude', 'lotsqft', 'poolcnt', 'regionidzip', 'stories', 'assessmentyear']\n",
    "make_float = ['baths','logerror']\n",
    "\n",
    "for col in make_ints:\n",
    "    z[col] = z[col].astype(int)\n",
    "for col in make_float:\n",
    "    z[col] = z[col].astype(float)"
   ]
  },
  {
   "cell_type": "code",
   "execution_count": 261,
   "metadata": {},
   "outputs": [
    {
     "data": {
      "text/plain": [
       "baths              float64\n",
       "beds                 int64\n",
       "sqft                 int64\n",
       "county               int64\n",
       "garagetotalsqft      int64\n",
       "latitude             int64\n",
       "longitude            int64\n",
       "lotsqft              int64\n",
       "poolcnt              int64\n",
       "regionidcounty     float64\n",
       "regionidzip          int64\n",
       "yearbuilt            int64\n",
       "stories              int64\n",
       "tax_value            int64\n",
       "assessmentyear       int64\n",
       "tax_delinquency     object\n",
       "logerror           float64\n",
       "heat_type           object\n",
       "ac_type             object\n",
       "dtype: object"
      ]
     },
     "execution_count": 261,
     "metadata": {},
     "output_type": "execute_result"
    }
   ],
   "source": [
    "z.dtypes"
   ]
  },
  {
   "cell_type": "code",
   "execution_count": null,
   "metadata": {},
   "outputs": [],
   "source": [
    "# handle outliers"
   ]
  },
  {
   "cell_type": "markdown",
   "metadata": {},
   "source": [
    "<hr style=\"border:2px solid black\">\n",
    "\n",
    "# **Explore**\n",
    "Plan --> Acquire --> Prepare --> **Explore** --> Model --> Deliver\n",
    "### Initial Hypotheses:\n",
    "1. one\n",
    "2. two\n",
    "3. three\n",
    "### Vizualize:\n",
    "1. **Univariate analysis (looking at only one variable)**\n",
    "\t- [ ] Plot out the distributions of each feature. _This is critical b/c many of our statisitical tools and machine learning algorithms assume certain distributions. If your data isn't remotely normally distributed, then avoid using any tools that assume normally distributed data."
   ]
  },
  {
   "cell_type": "code",
   "execution_count": null,
   "metadata": {},
   "outputs": [],
   "source": []
  },
  {
   "cell_type": "markdown",
   "metadata": {},
   "source": [
    ">Takeaways:"
   ]
  },
  {
   "cell_type": "markdown",
   "metadata": {},
   "source": [
    "2. **Bi-Multivariate Distributions**\n",
    "- [ ] Plot out the interaction of 2 or more variables.\n",
    "- [ ] Plot out how subgroups compare to each-other and to the overall population.\n",
    "- [ ] Document any surprises you may find in visualizing. This means write down your takeaways; documenting your takeaways is a huge component of your final deliverable/analysis."
   ]
  },
  {
   "cell_type": "code",
   "execution_count": null,
   "metadata": {},
   "outputs": [],
   "source": []
  },
  {
   "cell_type": "markdown",
   "metadata": {},
   "source": [
    "### Hypothesis Testing:\n",
    "- [ ] <u> <b>Identify features that correlate with the target variable.</b></u>\n",
    "- [ ] <u> <b>Identify features that correlate with each other. If feature A and feature B are each tightly correlated with the target variable, but they're also tightly correlated with each other, we should use one feature that correlates better, rather than use both. </b> </u>"
   ]
  },
  {
   "cell_type": "code",
   "execution_count": null,
   "metadata": {},
   "outputs": [],
   "source": []
  },
  {
   "cell_type": "markdown",
   "metadata": {},
   "source": [
    "#### Feature Engineering\n",
    "- Create any custom features\n",
    "\t* add to data dictionary"
   ]
  },
  {
   "cell_type": "code",
   "execution_count": null,
   "metadata": {},
   "outputs": [],
   "source": []
  },
  {
   "cell_type": "markdown",
   "metadata": {},
   "source": [
    "-  Select Potential Features: (based on results of hypothesis testing)\n",
    "\t1. Relevent Feature 1:\n",
    "\t2. 2\n",
    "\t3. 3\n",
    "\t\n",
    "- From those features select the best using RFE, SelectKBest"
   ]
  },
  {
   "cell_type": "markdown",
   "metadata": {},
   "source": [
    "## Exploration Summary\n",
    "All of the features investigated were found to be statistically significant and will be used in our model.\n",
    "<u><b>Drivers of Churn:</b></u>\n",
    "* Monthly Charges (Especially above $70)\n",
    "* Contract Type (M-M)\n",
    "* Payment Type (Manual)\n",
    "* Internet Service Type (Fiber Optic)\n",
    "* Tech Support (For Fiber Optic customers)\n",
    "<br>"
   ]
  },
  {
   "cell_type": "code",
   "execution_count": null,
   "metadata": {},
   "outputs": [],
   "source": []
  },
  {
   "cell_type": "markdown",
   "metadata": {},
   "source": [
    "<hr style=\"border:2px solid black\">\n",
    "\n",
    "# **Modeling**\n",
    "Plan --> Acquire --> Prepare --> Explore --> **Model** --> Deliver\n",
    "\n",
    "- [ ] Select Model types:\n",
    "\t- [ ] OLS\n",
    "\t- [ ] LassoLars\n",
    "\t- [ ] GLM\n",
    "\t- [ ] Polynomial\n"
   ]
  },
  {
   "cell_type": "markdown",
   "metadata": {},
   "source": [
    "## <u>Evaluate:</u>\n",
    "- [ ] Baseline\n",
    "- [ ] Different features for each model\n",
    "- [ ] Best performing of each category to other categories\n"
   ]
  },
  {
   "cell_type": "markdown",
   "metadata": {},
   "source": [
    "# <u>Iterate:</u>\n",
    "#### Am I done with clean-up/prep? Taken care of outliers?\n",
    "#### Tune Model\n",
    "#### Feature Engineering:\n",
    "\n",
    "\n"
   ]
  },
  {
   "cell_type": "code",
   "execution_count": null,
   "metadata": {},
   "outputs": [],
   "source": []
  }
 ],
 "metadata": {
  "kernelspec": {
   "display_name": "base",
   "language": "python",
   "name": "python3"
  },
  "language_info": {
   "codemirror_mode": {
    "name": "ipython",
    "version": 3
   },
   "file_extension": ".py",
   "mimetype": "text/x-python",
   "name": "python",
   "nbconvert_exporter": "python",
   "pygments_lexer": "ipython3",
   "version": "3.11.3"
  },
  "orig_nbformat": 4
 },
 "nbformat": 4,
 "nbformat_minor": 2
}
